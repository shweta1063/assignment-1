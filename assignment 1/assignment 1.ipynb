{
 "cells": [
  {
   "cell_type": "code",
   "execution_count": 1,
   "metadata": {},
   "outputs": [
    {
     "name": "stdout",
     "output_type": "stream",
     "text": [
      "enter the username:\n",
      "india\n",
      "enter the password:\n",
      "l\n",
      "password is incorrect , TRY AGAIN\n",
      "enter the password:\n",
      "l\n",
      "password is incorrect , TRY AGAIN\n",
      "enter the password:\n",
      "l\n",
      "password is incorrect , TRY AGAIN\n",
      "enter the password:\n",
      "l\n",
      "password is incorrect , TRY AGAIN\n",
      "enter the password:\n",
      "j\n",
      "password is incorrect , TRY AGAIN\n",
      "you re-correct password 5 times, try after 24 hour\n"
     ]
    }
   ],
   "source": [
    "x=1\n",
    "y=1\n",
    "while y<=5:\n",
    "    username= input(\"enter the username:\\n\")\n",
    "    if username==\"india\":\n",
    "        while x<=5:\n",
    "            password=input(\"enter the password:\\n\")\n",
    "            if password==\"IND\":\n",
    "                print(\"you are successfully logged in\")\n",
    "                x=7\n",
    "                y=7\n",
    "            else:\n",
    "                print(\"password is incorrect , TRY AGAIN\")\n",
    "                x=x+1\n",
    "                if x==6:\n",
    "                    print(\"you re-correct password 5 times, try after 24 hour\")\n",
    "                    y=7\n",
    "    else:\n",
    "        print(\"username incorrect TRY AGAIN\")\n",
    "        y=y+1\n",
    "        if y==6:\n",
    "            print(\"you re-correct username 5 times, try after 24 hour\")"
   ]
  },
  {
   "cell_type": "code",
   "execution_count": 12,
   "metadata": {},
   "outputs": [
    {
     "name": "stdout",
     "output_type": "stream",
     "text": [
      "0.26785714285714285\n",
      "3.7333333333333334\n",
      "-28\n"
     ]
    }
   ],
   "source": [
    "x=5\n",
    "a=(2*x+5)/(x**2+5*x+6)\n",
    "print(a)\n",
    "\n",
    "b=(x**2+5*x+6)/(2*x+5)\n",
    "print(b)\n",
    "\n",
    "c=(2*x-3)*(x-9)\n",
    "print(c)"
   ]
  },
  {
   "cell_type": "code",
   "execution_count": null,
   "metadata": {},
   "outputs": [],
   "source": []
  },
  {
   "cell_type": "code",
   "execution_count": null,
   "metadata": {},
   "outputs": [],
   "source": []
  }
 ],
 "metadata": {
  "kernelspec": {
   "display_name": "Python 3",
   "language": "python",
   "name": "python3"
  },
  "language_info": {
   "codemirror_mode": {
    "name": "ipython",
    "version": 3
   },
   "file_extension": ".py",
   "mimetype": "text/x-python",
   "name": "python",
   "nbconvert_exporter": "python",
   "pygments_lexer": "ipython3",
   "version": "3.7.6"
  }
 },
 "nbformat": 4,
 "nbformat_minor": 4
}
